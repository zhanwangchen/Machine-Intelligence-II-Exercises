{
 "cells": [
  {
   "cell_type": "markdown",
   "metadata": {},
   "source": [
    "# Exercise 9: Stochastic Optimization\n",
    "\n",
    "The Nebenhoerers (Danijar Hafner, Thomas Kellermeier, Patrick Kuhn, Jan Szynal)"
   ]
  },
  {
   "cell_type": "markdown",
   "metadata": {},
   "source": [
    "## What will we do?\n",
    "\n",
    "- Inference on a small hopfield network.\n",
    "- Energy-based optimization.\n",
    "- **Simulated Annealing** tries random parameters, preferring better ones.\n",
    "- **Mean-Field Annearling** ...\n",
    "- Comparison of both methods."
   ]
  },
  {
   "cell_type": "code",
   "execution_count": 1,
   "metadata": {
    "collapsed": false
   },
   "outputs": [],
   "source": [
    "%matplotlib inline\n",
    "\n",
    "import scipy.io\n",
    "import pandas as pd\n",
    "import numpy as np\n",
    "import matplotlib.pyplot as plt\n",
    "import collections\n",
    "import glob\n",
    "import itertools"
   ]
  },
  {
   "cell_type": "markdown",
   "metadata": {},
   "source": [
    "## Hopfield/RBM?\n",
    "\n",
    "- Uni-directional connections: $w_{ij}=w_{ji}$ and no self-connections: $w_{ii}=0$.\n",
    "- We want to sample from the learned distribution, weights fixed.\n",
    "\n",
    "![](http://deeplearning.net/tutorial/_images/rbm.png)"
   ]
  },
  {
   "cell_type": "code",
   "execution_count": 2,
   "metadata": {
    "collapsed": true
   },
   "outputs": [],
   "source": [
    "def random_weight(n, seed=0):\n",
    "    random = np.random.RandomState(seed)\n",
    "    # Value range.\n",
    "    w = random.rand(n, n) * 2 - 1\n",
    "    # Symmetric.\n",
    "    w = (w + w.T) / 2\n",
    "    # Zero diagonal.\n",
    "    w *= (1 - np.eye(n))\n",
    "    return w"
   ]
  },
  {
   "cell_type": "markdown",
   "metadata": {},
   "source": [
    "## Plotting Helper (Not Too Interesting)"
   ]
  },
  {
   "cell_type": "code",
   "execution_count": 3,
   "metadata": {
    "collapsed": true
   },
   "outputs": [],
   "source": [
    "class EnergyPlot:\n",
    "    \n",
    "    def __init__(self, name):\n",
    "        self.fig, self.ax = plt.subplots(nrows=2, figsize=(13, 7))\n",
    "        self.ax[0].set_title('{} Energy'.format(name))\n",
    "        self.ax[0].set_xlabel('Iteration')\n",
    "        self.ax[0].set_ylabel('E(s)')\n",
    "        self.ax[1].set_title('Temperature')\n",
    "        self.ax[1].set_xlabel('Iteration')\n",
    "        self.ax[1].set_ylabel(r'$\\beta^{-1}$')\n",
    "        self._labelled = False\n",
    "\n",
    "    def __call__(self, costs, betas, label=None):\n",
    "        if label:\n",
    "            self._labelled = True\n",
    "        self.ax[0].plot(np.arange(len(costs)), costs, label=label)\n",
    "        temps = [1 / x for x in betas]\n",
    "        self.ax[1].step(np.arange(len(temps)), temps)\n",
    "\n",
    "    def show(self):\n",
    "        if self._labelled:\n",
    "            self.ax[0].legend()\n",
    "        self.fig.tight_layout()\n",
    "        plt.show()"
   ]
  },
  {
   "cell_type": "markdown",
   "metadata": {},
   "source": [
    "## Annealing Methods for Optimization\n",
    "\n",
    "- Parameters are called state $s$, cost is called energy $E(s)$; by analogy to metal annealing.\n",
    "- Iteratively improve the state, starting from random.\n",
    "- Temperature parameter $\\frac{1}{\\beta}$ defines randomness of the improvement, decays over time."
   ]
  },
  {
   "cell_type": "code",
   "execution_count": 4,
   "metadata": {
    "collapsed": false
   },
   "outputs": [],
   "source": [
    "class Annealing:\n",
    "\n",
    "    def __init__(self, seed=0):\n",
    "        self._seed = seed\n",
    "\n",
    "    def __call__(self, weight, epochs, beta, tau, **kwargs):\n",
    "        self._init_random()\n",
    "        costs, betas = [], []\n",
    "        state = self._initial_state(weight.shape[0])\n",
    "        for _ in range(epochs):\n",
    "            state = self._update(state, weight, beta, **kwargs)\n",
    "            costs.append(self._energy(state, weight))\n",
    "            betas.append(beta)\n",
    "            beta *= tau\n",
    "        return state, costs, betas\n",
    "\n",
    "    def _initial_state(self):\n",
    "        raise NotImplementedError\n",
    "    \n",
    "    def _update(self, state, weight, beta, **kwargs):\n",
    "        raise NotImplementedError\n",
    "        \n",
    "    def _energy(self, state, weight):\n",
    "        return -0.5 * (np.outer(state, state) * weight).sum()\n",
    "    \n",
    "    def _init_random(self):\n",
    "        self._random = np.random.RandomState(self._seed)"
   ]
  },
  {
   "cell_type": "markdown",
   "metadata": {},
   "source": [
    "## Simulated Annealing\n",
    "\n",
    "- Randomly modify the current state $s$.\n",
    "- Modifications $s'$ that decrease the energy more are more likely.\n",
    "\n",
    "$$P(s)=\\frac{1}{1+e^\\frac{\\Delta E}{T}}$$\n",
    "\n",
    "- Sample probability and decide to keep $s$ or switch to $s'$.\n",
    "- Temperature moves probabilities toward uniform if high, decays over time.\n",
    "\n",
    "two graphs\n",
    "\n",
    "Example:\n",
    "\n",
    "![](https://upload.wikimedia.org/wikipedia/commons/d/d5/Hill_Climbing_with_Simulated_Annealing.gif)"
   ]
  },
  {
   "cell_type": "code",
   "execution_count": 5,
   "metadata": {
    "collapsed": false,
    "scrolled": false
   },
   "outputs": [
    {
     "name": "stdout",
     "output_type": "stream",
     "text": [
      "iterations   1, cost -3.730, result [ 1  1  1  1 -1  1]\n",
      "iterations 500, cost -3.730, result [-1 -1 -1 -1  1 -1]\n"
     ]
    },
    {
     "data": {
      "image/png": "[encoded data removed]",
      "text/plain": [
       "<matplotlib.figure.Figure at 0x7f7a2a82e208>"
      ]
     },
     "metadata": {},
     "output_type": "display_data"
    }
   ],
   "source": [
    "class SimulatedAnnealing(Annealing):\n",
    "\n",
    "    def _initial_state(self, length):\n",
    "        return np.array([-1, 1])[self._random.randint(0, 2, length)]\n",
    "    \n",
    "    def _update(self, state, weight, beta, iters=1):\n",
    "        for _ in range(iters):\n",
    "            node = self._random.randint(0, state.shape[0])\n",
    "            delta_energy = -2 * self._local_energy(state, weight, node)\n",
    "            probability = self._probability(delta_energy, beta)\n",
    "            if self._random.rand() < probability:\n",
    "                state[node] *= -1\n",
    "        return state\n",
    "\n",
    "    @staticmethod\n",
    "    def _probability(delta_energy, beta):\n",
    "        return 1 / (1 + np.e ** (beta * delta_energy))\n",
    "\n",
    "    @staticmethod\n",
    "    def _local_energy(state, weight, node):\n",
    "        return -0.5 * (state[node] * state * weight[node]).sum()\n",
    "\n",
    "\n",
    "def main():\n",
    "    weight = random_weight(6)\n",
    "    annealing = SimulatedAnnealing()\n",
    "    plot = EnergyPlot('Simulated Annealing')\n",
    "    for iters in (1, 500):\n",
    "        state, costs, betas = annealing(weight, epochs=20, beta=1.1, tau=1.1, iters=iters)\n",
    "        plot(costs, betas, 'M = {}'.format(iters))\n",
    "        print('iterations {:>3}, cost {:5.3f}, result {}'.format(iters, costs[-1], state))\n",
    "    plot.show()\n",
    "\n",
    "main()"
   ]
  },
  {
   "cell_type": "markdown",
   "metadata": {},
   "source": [
    "Results:\n",
    "\n",
    "- Current states get lower energy over time, as the temperature decreases.\n",
    "- $M=500$ tries more states and finds the optimal state faster.\n",
    "- Both $M=1$ and $M=500$ find the optimum."
   ]
  },
  {
   "cell_type": "markdown",
   "metadata": {},
   "source": [
    "## Energies and probabilities of all $2^6$ states"
   ]
  },
  {
   "cell_type": "code",
   "execution_count": null,
   "metadata": {
    "collapsed": false,
    "scrolled": false
   },
   "outputs": [],
   "source": [
    "#generate states, e.g. {-1, 1, -1, -1, 1, 1} (all 2^6 possibilities)\n",
    "states = itertools.product([-1,1], repeat=6)\n",
    "states = np.array(list(states))\n",
    "\n",
    "labels = [' '.join(['', '●', '○'][y] for y in x) for x in states]\n",
    "\n",
    "n = states.shape[0]\n",
    "\n",
    "energies = np.zeros(n)\n",
    "probabilities = np.zeros(n)\n",
    "\n",
    "annealing = Annealing()\n",
    "\n",
    "weight = random_weight(6)\n",
    "\n",
    "\n",
    "for i, state in enumerate(states):\n",
    "    energies[i] = annealing._energy(state, weight)\n",
    "    \n",
    "def probabilities(beta):\n",
    "    probabilities = np.zeros(n)\n",
    "    for i, state in enumerate(states):\n",
    "        probabilities[i] = np.exp(-(beta*annealing._energy(state,weight)))\n",
    "        z = np.sum(np.exp(energies*beta))\n",
    "    return probabilities/z\n",
    "\n",
    "\n",
    "\n",
    "fig, ax = plt.subplots(4, 1, figsize=(20, 30))\n",
    "\n",
    "for axis in ax:\n",
    "    axis.set_xlim([0,64])\n",
    "    axis.set_xticks(np.arange(64))\n",
    "    axis.set_xticklabels(labels, rotation='vertical', ha='left');\n",
    "\n",
    "betas = [0.01, 0.07, 0.6]    \n",
    "\n",
    "ax[0].bar(np.arange(n), energies, color='orange')\n",
    "ax[0].set_ylabel('E(s)')\n",
    "ax[0].set_title('Energies of all states', fontsize=20)\n",
    "\n",
    "ax[1].bar(np.arange(n), probabilities(betas[0]))\n",
    "ax[1].set_ylabel('P(s)')\n",
    "ax[1].set_title('Probabilities of all states for β='+str(betas[0]), fontsize=20)\n",
    "\n",
    "ax[2].bar(np.arange(n), probabilities(betas[1]))\n",
    "ax[2].set_ylabel('P(s)')\n",
    "ax[2].set_title('Probabilities of all states for β='+str(betas[1]), fontsize=20)\n",
    "\n",
    "ax[3].bar(np.arange(n), probabilities(betas[2]))\n",
    "ax[3].set_ylabel('P(s)')\n",
    "ax[3].set_title('Probabilities of all states for β='+str(betas[2]), fontsize=20)\n",
    "\n",
    "fig.tight_layout(h_pad=7.0)"
   ]
  },
  {
   "cell_type": "code",
   "execution_count": null,
   "metadata": {
    "collapsed": true
   },
   "outputs": [],
   "source": []
  },
  {
   "cell_type": "markdown",
   "metadata": {},
   "source": [
    "## Mean Field Annealing\n",
    "\n",
    "Basic ideas:\n",
    "\n",
    "- One\n",
    "- Two\n",
    "- Three"
   ]
  },
  {
   "cell_type": "code",
   "execution_count": 7,
   "metadata": {
    "collapsed": false
   },
   "outputs": [
    {
     "name": "stdout",
     "output_type": "stream",
     "text": [
      "cost -3.729, result [ 0.99999765  0.9999997   1.          0.99923769 -0.99999791  0.99999999]\n"
     ]
    },
    {
     "data": {
      "image/png": "[encoded data removed]",
      "text/plain": [
       "<matplotlib.figure.Figure at 0x7f7a27c24940>"
      ]
     },
     "metadata": {},
     "output_type": "display_data"
    }
   ],
   "source": [
    "class MeanFieldAnnealing(Annealing):\n",
    "\n",
    "    def _initial_state(self, length):\n",
    "        return 0.1 * (self._random.rand(length) * 2 - 1)\n",
    "    \n",
    "    def __init__(self, epsilon=1e-5, **kwargs):\n",
    "        super().__init__(**kwargs)\n",
    "        self._epsilon = epsilon\n",
    "\n",
    "    def _update(self, state, weight, beta):\n",
    "        history = collections.deque(maxlen=2)\n",
    "        while not self._convergence(history):\n",
    "            field = -np.dot(weight, state)\n",
    "            state = np.tanh(-beta * field)\n",
    "            history.append(field)\n",
    "        return state\n",
    "    \n",
    "    def _convergence(self, history):\n",
    "        if len(history) < 2:\n",
    "            return False\n",
    "        change = np.absolute(history[0]) - np.absolute(history[1])\n",
    "        return (np.absolute(change) < self._epsilon).all()\n",
    "\n",
    "\n",
    "def main():\n",
    "    weight = random_weight(6)\n",
    "    annealing = MeanFieldAnnealing()\n",
    "    plot = EnergyPlot('Mean Field Annealing')\n",
    "    state, costs, betas = annealing(weight, epochs=20, beta=1.1, tau=1.1)\n",
    "    plot(costs, betas)\n",
    "    print('cost {:5.3f}, result {}'.format(costs[-1], state))\n",
    "    plot.show()\n",
    "\n",
    "main()"
   ]
  }
 ],
 "metadata": {
  "anaconda-cloud": {},
  "kernelspec": {
   "display_name": "Python [conda root]",
   "language": "python",
   "name": "conda-root-py"
  },
  "language_info": {
   "codemirror_mode": {
    "name": "ipython",
    "version": 2
   },
   "file_extension": ".py",
   "mimetype": "text/x-python",
   "name": "python",
   "nbconvert_exporter": "python",
   "pygments_lexer": "ipython2",
   "version": "2.7.12"
  }
 },
 "nbformat": 4,
 "nbformat_minor": 0
}
